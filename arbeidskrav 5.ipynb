{
 "cells": [
  {
   "cell_type": "code",
   "execution_count": 1,
   "id": "f9cb61da-6f46-4eaf-b30f-058781dfa61f",
   "metadata": {},
   "outputs": [],
   "source": [
    "import matplotlib.pyplot as plt\n",
    "import numpy as np\n",
    "import sympy as sy\n",
    "import pandas as pd\n",
    "from sympy.solvers import solve\n",
    "from IPython.display import display\n",
    "from math import e as e\n"
   ]
  },
  {
   "cell_type": "code",
   "execution_count": 6,
   "id": "eb9ec767-e1ae-4e7b-bd12-51689a7796af",
   "metadata": {},
   "outputs": [
    {
     "data": {
      "text/plain": [
       "{x: -1, y: 2}"
      ]
     },
     "execution_count": 6,
     "metadata": {},
     "output_type": "execute_result"
    }
   ],
   "source": [
    "#15-1a\n",
    "E1=sy.Eq(2*x+4*y,6)\n",
    "E2=sy.Eq(-2*x+y,4)\n",
    "sy.solve([E1, E2])"
   ]
  },
  {
   "cell_type": "code",
   "execution_count": 7,
   "id": "01ebf938-98ff-48d0-8275-e1b02fe2b4e4",
   "metadata": {},
   "outputs": [
    {
     "data": {
      "text/plain": [
       "[{x: -1, y: -1}, {x: 2, y: 5}]"
      ]
     },
     "execution_count": 7,
     "metadata": {},
     "output_type": "execute_result"
    }
   ],
   "source": [
    "#15-1b\n",
    "E1=sy.Eq(2*x-y,-1)\n",
    "E2=sy.Eq(x**2+x-y,1)\n",
    "sy.solve([E1, E2])"
   ]
  },
  {
   "cell_type": "code",
   "execution_count": 8,
   "id": "59c96429-3bdc-4352-b208-0e44fc88e29b",
   "metadata": {},
   "outputs": [
    {
     "name": "stdout",
     "output_type": "stream",
     "text": [
      "Riktig!!!\n"
     ]
    },
    {
     "data": {
      "text/plain": [
       "(0, 0)"
      ]
     },
     "execution_count": 8,
     "metadata": {},
     "output_type": "execute_result"
    }
   ],
   "source": [
    "#Setter prøve på svaret 1b.\n",
    "def pro(x, y):\n",
    "    res1 = 2*x-y+1\n",
    "    res2 = x**2+x-y-1\n",
    "    if res1==0 & res2==0:\n",
    "        print(\"Riktig!!!\")\n",
    "    else:\n",
    "        print(\"Ikke gi opp, prøv på nytt:)\")\n",
    "    return res1, res2\n",
    "pro(2,5)"
   ]
  },
  {
   "cell_type": "code",
   "execution_count": 9,
   "id": "75e425ae-1654-44ac-a726-f919fe6e47c7",
   "metadata": {},
   "outputs": [
    {
     "data": {
      "text/plain": [
       "{x: 4, y: 0}"
      ]
     },
     "execution_count": 9,
     "metadata": {},
     "output_type": "execute_result"
    }
   ],
   "source": [
    "#15-2a\n",
    "E1=sy.Eq(3*x-12,-6*y)\n",
    "E2=sy.Eq(4*x-8*y,16)\n",
    "sy.solve([E1, E2])"
   ]
  },
  {
   "cell_type": "code",
   "execution_count": 10,
   "id": "8afa3789-1036-4284-9017-fce5e581006e",
   "metadata": {},
   "outputs": [
    {
     "data": {
      "text/plain": [
       "[{x: -15/2, y: 31/4}, {x: 2, y: 3}]"
      ]
     },
     "execution_count": 10,
     "metadata": {},
     "output_type": "execute_result"
    }
   ],
   "source": [
    "#15-2b\n",
    "E1=sy.Eq(x**2+4*x-3,3*y)\n",
    "E2=sy.Eq(2*y,8-x)\n",
    "sy.solve([E1, E2])"
   ]
  },
  {
   "cell_type": "code",
   "execution_count": 11,
   "id": "2688b91a-1a2a-4645-960e-97df29cd92e4",
   "metadata": {},
   "outputs": [
    {
     "data": {
      "text/plain": [
       "{x: 2, y: 2}"
      ]
     },
     "execution_count": 11,
     "metadata": {},
     "output_type": "execute_result"
    }
   ],
   "source": [
    "#16-1a\n",
    "E1=sy.Eq(4*x+2*y,12)\n",
    "E2=sy.Eq(6*x-2*y,8)\n",
    "sy.solve([E1, E2])"
   ]
  },
  {
   "cell_type": "code",
   "execution_count": null,
   "id": "dee217a6-41f2-4f2e-bd7f-bb0b446525e1",
   "metadata": {},
   "outputs": [],
   "source": [
    "#16-1b\n",
    "E1=sy.Eq(2*x+y**2,25)\n",
    "E2=sy.Eq(x-2*y,10)\n",
    "sy.solve([E1, E2])"
   ]
  },
  {
   "cell_type": "code",
   "execution_count": 12,
   "id": "c26f86b3-8a55-4814-9e1d-5ff7da7ee960",
   "metadata": {},
   "outputs": [
    {
     "data": {
      "text/plain": [
       "{x: 4, y: 2}"
      ]
     },
     "execution_count": 12,
     "metadata": {},
     "output_type": "execute_result"
    }
   ],
   "source": [
    "#16-2a\n",
    "E1=sy.Eq(4*x-4*y,8)\n",
    "E2=sy.Eq(9*x-5*y,26)\n",
    "sy.solve([E1, E2])"
   ]
  },
  {
   "cell_type": "code",
   "execution_count": 13,
   "id": "5cac40d9-ec13-4fc1-8a6b-7212705e9471",
   "metadata": {},
   "outputs": [
    {
     "data": {
      "text/plain": [
       "[{x: -9, y: -2*sqrt(3)}, {x: -9, y: 2*sqrt(3)}, {x: 7, y: -2}, {x: 7, y: 2}]"
      ]
     },
     "execution_count": 13,
     "metadata": {},
     "output_type": "execute_result"
    }
   ],
   "source": [
    "#16-2b\n",
    "E1=sy.Eq(x+2*y**2,15)\n",
    "E2=sy.Eq(x**2-4*y**2,33)\n",
    "sy.solve([E1, E2])"
   ]
  },
  {
   "cell_type": "code",
   "execution_count": 14,
   "id": "033e2237-81b8-4948-88cf-938ca1968aca",
   "metadata": {},
   "outputs": [
    {
     "data": {
      "text/plain": [
       "[{x: 0, y: -4}, {x: 0, y: 4}, {x: 15, y: -1}, {x: 15, y: 1}]"
      ]
     },
     "execution_count": 14,
     "metadata": {},
     "output_type": "execute_result"
    }
   ],
   "source": [
    "#17-1a\n",
    "E1=sy.Eq(x*y**2-x,0)\n",
    "E2=sy.Eq(x+y**2,16)\n",
    "sy.solve([E1, E2])"
   ]
  },
  {
   "cell_type": "code",
   "execution_count": 15,
   "id": "54938a95-bc38-40bf-9185-f3a21c8f36f5",
   "metadata": {},
   "outputs": [
    {
     "data": {
      "text/plain": [
       "[{x: -10, y: 0},\n",
       " {x: -6, y: -8},\n",
       " {x: -6, y: 8},\n",
       " {x: 6, y: -8},\n",
       " {x: 6, y: 8},\n",
       " {x: 10, y: 0}]"
      ]
     },
     "execution_count": 15,
     "metadata": {},
     "output_type": "execute_result"
    }
   ],
   "source": [
    "#17-1b\n",
    "E1=sy.Eq(x**2+y**2,100)\n",
    "E2=sy.Eq(x**2*y-36*y,0)\n",
    "sy.solve([E1, E2])"
   ]
  },
  {
   "cell_type": "code",
   "execution_count": 16,
   "id": "59793aa1-9399-448f-9ba2-524e407d4746",
   "metadata": {},
   "outputs": [
    {
     "data": {
      "text/plain": [
       "[{x: -3, y: -7},\n",
       " {x: -3, y: 7},\n",
       " {x: 0, y: -sqrt(58)},\n",
       " {x: 0, y: sqrt(58)},\n",
       " {x: 3, y: -7},\n",
       " {x: 3, y: 7}]"
      ]
     },
     "execution_count": 16,
     "metadata": {},
     "output_type": "execute_result"
    }
   ],
   "source": [
    "#17-2a\n",
    "E1=sy.Eq(x*y**2-49*x,0)\n",
    "E2=sy.Eq(x**2+y**2,58)\n",
    "sy.solve([E1, E2])"
   ]
  },
  {
   "cell_type": "code",
   "execution_count": 17,
   "id": "3d24a498-9148-42d1-bbd3-7c1b715326b1",
   "metadata": {},
   "outputs": [
    {
     "data": {
      "text/plain": [
       "[{x: -1.11803398874989, y: 0.0},\n",
       " {x: 0.500000000000000, y: -1.00000000000000},\n",
       " {x: 0.500000000000000, y: 1.00000000000000},\n",
       " {x: 1.11803398874989, y: 0.0}]"
      ]
     },
     "execution_count": 17,
     "metadata": {},
     "output_type": "execute_result"
    }
   ],
   "source": [
    "#17-2b\n",
    "E1=sy.Eq(x**2+y**2,5/4)\n",
    "E2=sy.Eq(2*x*y-y,0)\n",
    "sy.solve([E1, E2])"
   ]
  },
  {
   "cell_type": "code",
   "execution_count": 18,
   "id": "64f40075-051a-4e56-b7b6-bac8a85f6faa",
   "metadata": {},
   "outputs": [
    {
     "data": {
      "text/latex": [
       "$\\displaystyle 5 x^{4}$"
      ],
      "text/plain": [
       "5*x**4"
      ]
     },
     "execution_count": 18,
     "metadata": {},
     "output_type": "execute_result"
    }
   ],
   "source": [
    "#19-1a\n",
    "sy.diff(x**5)"
   ]
  },
  {
   "cell_type": "code",
   "execution_count": 19,
   "id": "2704da15-2d91-4fc6-b18c-d69d1328cee4",
   "metadata": {},
   "outputs": [
    {
     "data": {
      "text/latex": [
       "$\\displaystyle 1$"
      ],
      "text/plain": [
       "1"
      ]
     },
     "execution_count": 19,
     "metadata": {},
     "output_type": "execute_result"
    }
   ],
   "source": [
    "#19-1b\n",
    "sy.diff(x+12)"
   ]
  },
  {
   "cell_type": "code",
   "execution_count": 20,
   "id": "8322d37f-88a9-4a6e-875d-6441df8cebac",
   "metadata": {},
   "outputs": [
    {
     "data": {
      "text/latex": [
       "$\\displaystyle 3 x^{2} + 8 x$"
      ],
      "text/plain": [
       "3*x**2 + 8*x"
      ]
     },
     "execution_count": 20,
     "metadata": {},
     "output_type": "execute_result"
    }
   ],
   "source": [
    "#19-1c\n",
    "sy.diff(x**3+4*x**2)"
   ]
  },
  {
   "cell_type": "code",
   "execution_count": 21,
   "id": "725f43a4-41f8-4492-a18a-07e17b8bf43c",
   "metadata": {},
   "outputs": [
    {
     "data": {
      "text/latex": [
       "$\\displaystyle 6 x^{2}$"
      ],
      "text/plain": [
       "6*x**2"
      ]
     },
     "execution_count": 21,
     "metadata": {},
     "output_type": "execute_result"
    }
   ],
   "source": [
    "#19-1d\n",
    "sy.diff(2*x**3+sy.sqrt(36))"
   ]
  },
  {
   "cell_type": "code",
   "execution_count": 22,
   "id": "67a272de-fa65-42ae-9aa6-437d69c64365",
   "metadata": {},
   "outputs": [
    {
     "data": {
      "text/latex": [
       "$\\displaystyle \\frac{1}{2 \\sqrt{x}}$"
      ],
      "text/plain": [
       "1/(2*sqrt(x))"
      ]
     },
     "execution_count": 22,
     "metadata": {},
     "output_type": "execute_result"
    }
   ],
   "source": [
    "#19-1e\n",
    "sy.diff(sy.sqrt(x)+5**2)"
   ]
  },
  {
   "cell_type": "code",
   "execution_count": 23,
   "id": "f38aa43c-b7fa-4470-8ac9-7d48db0a9651",
   "metadata": {},
   "outputs": [
    {
     "data": {
      "text/latex": [
       "$\\displaystyle 3 x^{2} - \\frac{1}{x^{2}}$"
      ],
      "text/plain": [
       "3*x**2 - 1/x**2"
      ]
     },
     "execution_count": 23,
     "metadata": {},
     "output_type": "execute_result"
    }
   ],
   "source": [
    "#19-1f\n",
    "sy.diff(x**3+(1/x))"
   ]
  },
  {
   "cell_type": "code",
   "execution_count": 24,
   "id": "25b47c43-13a2-45c9-b855-420ce55b5491",
   "metadata": {},
   "outputs": [
    {
     "data": {
      "text/latex": [
       "$\\displaystyle 3 x^{2} - 2 x + 0.25$"
      ],
      "text/plain": [
       "3*x**2 - 2*x + 0.25"
      ]
     },
     "execution_count": 24,
     "metadata": {},
     "output_type": "execute_result"
    }
   ],
   "source": [
    "#19-1g\n",
    "sy.diff(x**3-x**2+(1/4)*x)"
   ]
  },
  {
   "cell_type": "code",
   "execution_count": 25,
   "id": "49339e71-6460-49f0-8081-26633a053a54",
   "metadata": {},
   "outputs": [
    {
     "data": {
      "text/latex": [
       "$\\displaystyle 36 x^{5} - \\frac{1}{x^{2}}$"
      ],
      "text/plain": [
       "36*x**5 - 1/x**2"
      ]
     },
     "execution_count": 25,
     "metadata": {},
     "output_type": "execute_result"
    }
   ],
   "source": [
    "#19-2a\n",
    "sy.diff((1/x)+6*x**6)"
   ]
  },
  {
   "cell_type": "code",
   "execution_count": 26,
   "id": "71de6488-4851-4820-88b3-01a86f512e62",
   "metadata": {},
   "outputs": [
    {
     "data": {
      "text/latex": [
       "$\\displaystyle 1.5 x^{2} - 1$"
      ],
      "text/plain": [
       "1.5*x**2 - 1"
      ]
     },
     "execution_count": 26,
     "metadata": {},
     "output_type": "execute_result"
    }
   ],
   "source": [
    "#19-2b\n",
    "sy.diff(-x+(1/2)*x**3)"
   ]
  },
  {
   "cell_type": "code",
   "execution_count": 27,
   "id": "afdc9e30-3424-4336-921a-5173dc0f6fbd",
   "metadata": {},
   "outputs": [
    {
     "data": {
      "text/latex": [
       "$\\displaystyle x^{2} + x \\left(2 x + 2\\right) + 2 x - 3$"
      ],
      "text/plain": [
       "x**2 + x*(2*x + 2) + 2*x - 3"
      ]
     },
     "execution_count": 27,
     "metadata": {},
     "output_type": "execute_result"
    }
   ],
   "source": [
    "#19-2c\n",
    "sy.diff(x*(x**2+2*x-3))"
   ]
  },
  {
   "cell_type": "code",
   "execution_count": 28,
   "id": "33f8a157-271b-4136-9dc6-134f0b03b0e8",
   "metadata": {},
   "outputs": [
    {
     "data": {
      "text/latex": [
       "$\\displaystyle 9 x^{8}$"
      ],
      "text/plain": [
       "9*x**8"
      ]
     },
     "execution_count": 28,
     "metadata": {},
     "output_type": "execute_result"
    }
   ],
   "source": [
    "#20-1e\n",
    "sy.diff((x**4)*(x**5))"
   ]
  },
  {
   "cell_type": "code",
   "execution_count": 29,
   "id": "a7ea2354-8b89-40b1-852e-5b210fe52f41",
   "metadata": {},
   "outputs": [
    {
     "data": {
      "text/latex": [
       "$\\displaystyle \\frac{3 \\sqrt{x}}{2}$"
      ],
      "text/plain": [
       "3*sqrt(x)/2"
      ]
     },
     "execution_count": 29,
     "metadata": {},
     "output_type": "execute_result"
    }
   ],
   "source": [
    "#20-1f\n",
    "sy.diff(x*sy.sqrt(x))"
   ]
  },
  {
   "cell_type": "code",
   "execution_count": 30,
   "id": "ba4bdd11-ddbb-4307-89c1-4546b2ac1b3b",
   "metadata": {},
   "outputs": [
    {
     "data": {
      "text/latex": [
       "$\\displaystyle - \\frac{6}{x^{4}}$"
      ],
      "text/plain": [
       "-6/x**4"
      ]
     },
     "execution_count": 30,
     "metadata": {},
     "output_type": "execute_result"
    }
   ],
   "source": [
    "#20-1g\n",
    "sy.diff((2)/(x**3))"
   ]
  },
  {
   "cell_type": "code",
   "execution_count": 31,
   "id": "ae3c58f0-f734-427e-8c49-59bc2aee85af",
   "metadata": {},
   "outputs": [
    {
     "data": {
      "text/latex": [
       "$\\displaystyle \\frac{2}{x^{2}} - \\frac{3 \\left(x^{2} - 2\\right)}{x^{4}}$"
      ],
      "text/plain": [
       "2/x**2 - 3*(x**2 - 2)/x**4"
      ]
     },
     "execution_count": 31,
     "metadata": {},
     "output_type": "execute_result"
    }
   ],
   "source": [
    "#20-1h\n",
    "sy.diff((x**2-2)/(x**3))"
   ]
  },
  {
   "cell_type": "code",
   "execution_count": 32,
   "id": "218fcabf-6e6a-4ab8-a5fa-274d3c937334",
   "metadata": {},
   "outputs": [
    {
     "data": {
      "text/latex": [
       "$\\displaystyle \\frac{13 x^{\\frac{11}{2}}}{2}$"
      ],
      "text/plain": [
       "13*x**(11/2)/2"
      ]
     },
     "execution_count": 32,
     "metadata": {},
     "output_type": "execute_result"
    }
   ],
   "source": [
    "#20-1i\n",
    "sy.diff((sy.sqrt(x))*(x**6))"
   ]
  },
  {
   "cell_type": "code",
   "execution_count": 33,
   "id": "536d0a39-ce8b-457b-927f-ef2ac8c08e57",
   "metadata": {},
   "outputs": [
    {
     "data": {
      "text/latex": [
       "$\\displaystyle 3 x^{2} + 1$"
      ],
      "text/plain": [
       "3*x**2 + 1"
      ]
     },
     "execution_count": 33,
     "metadata": {},
     "output_type": "execute_result"
    }
   ],
   "source": [
    "#20-1j\n",
    "sy.diff(x*(x**2+1))"
   ]
  },
  {
   "cell_type": "code",
   "execution_count": 34,
   "id": "738d0eb0-0666-4881-86fe-7d294d7dea93",
   "metadata": {},
   "outputs": [
    {
     "data": {
      "text/latex": [
       "$\\displaystyle - \\frac{3 x^{2} \\left(x^{2} + 4\\right)}{\\left(x^{3} - 1\\right)^{2}} + \\frac{2 x}{x^{3} - 1}$"
      ],
      "text/plain": [
       "-3*x**2*(x**2 + 4)/(x**3 - 1)**2 + 2*x/(x**3 - 1)"
      ]
     },
     "execution_count": 34,
     "metadata": {},
     "output_type": "execute_result"
    }
   ],
   "source": [
    "#20-1k\n",
    "sy.diff((x**2+4)/(x**3-1))"
   ]
  },
  {
   "cell_type": "code",
   "execution_count": 35,
   "id": "380c4493-9879-4aa1-84bc-b9e09ff54e43",
   "metadata": {},
   "outputs": [
    {
     "data": {
      "text/latex": [
       "$\\displaystyle \\frac{x^{2} \\left(- 2 x - 2\\right)}{\\left(x^{2} + 2 x\\right)^{2}} + \\frac{2 x}{x^{2} + 2 x}$"
      ],
      "text/plain": [
       "x**2*(-2*x - 2)/(x**2 + 2*x)**2 + 2*x/(x**2 + 2*x)"
      ]
     },
     "execution_count": 35,
     "metadata": {},
     "output_type": "execute_result"
    }
   ],
   "source": [
    "#20-1l\n",
    "sy.diff((x**2)/(x**2+2*x))"
   ]
  },
  {
   "cell_type": "code",
   "execution_count": 36,
   "id": "57fde4b5-6bd9-4cd1-b574-cd48cad21019",
   "metadata": {},
   "outputs": [
    {
     "data": {
      "text/latex": [
       "$\\displaystyle \\frac{2 x + 4}{x - 2} - \\frac{x^{2} + 4 x + 2}{\\left(x - 2\\right)^{2}}$"
      ],
      "text/plain": [
       "(2*x + 4)/(x - 2) - (x**2 + 4*x + 2)/(x - 2)**2"
      ]
     },
     "execution_count": 36,
     "metadata": {},
     "output_type": "execute_result"
    }
   ],
   "source": [
    "#20-1m\n",
    "sy.diff((x**2+4*x+2)/(x-2))"
   ]
  },
  {
   "cell_type": "code",
   "execution_count": 37,
   "id": "6a8ca78d-ceb5-420e-a83c-83bbbd3de6c6",
   "metadata": {},
   "outputs": [
    {
     "data": {
      "text/latex": [
       "$\\displaystyle - \\frac{2 x \\left(x^{3} - 2 x\\right)}{\\left(x^{2} - 1\\right)^{2}} + \\frac{3 x^{2} - 2}{x^{2} - 1}$"
      ],
      "text/plain": [
       "-2*x*(x**3 - 2*x)/(x**2 - 1)**2 + (3*x**2 - 2)/(x**2 - 1)"
      ]
     },
     "execution_count": 37,
     "metadata": {},
     "output_type": "execute_result"
    }
   ],
   "source": [
    "#20-2a\n",
    "sy.diff((x**3-2*x)/(x**2-1))"
   ]
  },
  {
   "cell_type": "code",
   "execution_count": 38,
   "id": "b76df8bb-f7cd-43e2-8f18-74c9cbcc89af",
   "metadata": {},
   "outputs": [
    {
     "data": {
      "text/latex": [
       "$\\displaystyle 2 x \\left(x^{2} - 1\\right) + 2 x \\left(x^{2} + 1\\right)$"
      ],
      "text/plain": [
       "2*x*(x**2 - 1) + 2*x*(x**2 + 1)"
      ]
     },
     "execution_count": 38,
     "metadata": {},
     "output_type": "execute_result"
    }
   ],
   "source": [
    "#20-2b\n",
    "sy.diff((x**2+1)*(x**2-1))"
   ]
  },
  {
   "cell_type": "code",
   "execution_count": 39,
   "id": "7469b1b1-76b9-4a61-a622-279384d118d6",
   "metadata": {},
   "outputs": [
    {
     "data": {
      "text/latex": [
       "$\\displaystyle - \\frac{3 x^{2} \\left(3 x - 4\\right)}{\\left(x^{3} + 7\\right)^{2}} + \\frac{3}{x^{3} + 7}$"
      ],
      "text/plain": [
       "-3*x**2*(3*x - 4)/(x**3 + 7)**2 + 3/(x**3 + 7)"
      ]
     },
     "execution_count": 39,
     "metadata": {},
     "output_type": "execute_result"
    }
   ],
   "source": [
    "#20-2c\n",
    "sy.diff((3*x-4)/(x**3+7))"
   ]
  },
  {
   "cell_type": "code",
   "execution_count": 40,
   "id": "32f64477-4058-405a-aef6-4aba63415a26",
   "metadata": {},
   "outputs": [
    {
     "data": {
      "text/latex": [
       "$\\displaystyle \\left(15 x^{2} + 30\\right) \\left(x^{3} + 6 x\\right)^{4}$"
      ],
      "text/plain": [
       "(15*x**2 + 30)*(x**3 + 6*x)**4"
      ]
     },
     "execution_count": 40,
     "metadata": {},
     "output_type": "execute_result"
    }
   ],
   "source": [
    "#21-1a\n",
    "sy.diff((x**3+6*x)**5)"
   ]
  },
  {
   "cell_type": "code",
   "execution_count": 41,
   "id": "f6423cc5-c8b8-4cb4-afc4-faa02b668750",
   "metadata": {},
   "outputs": [
    {
     "data": {
      "text/latex": [
       "$\\displaystyle \\frac{2 x}{\\sqrt{2 x^{2} + 5}}$"
      ],
      "text/plain": [
       "2*x/sqrt(2*x**2 + 5)"
      ]
     },
     "execution_count": 41,
     "metadata": {},
     "output_type": "execute_result"
    }
   ],
   "source": [
    "#21-1b\n",
    "sy.diff(sy.sqrt(2*x**2+5))"
   ]
  },
  {
   "cell_type": "code",
   "execution_count": 42,
   "id": "d635d6cc-3fcf-4cc5-9303-70fdb9794084",
   "metadata": {},
   "outputs": [
    {
     "data": {
      "text/latex": [
       "$\\displaystyle - \\frac{128 x^{5}}{\\left(x^{2} + 3\\right)^{5}} + \\frac{64 x^{3}}{\\left(x^{2} + 3\\right)^{4}}$"
      ],
      "text/plain": [
       "-128*x**5/(x**2 + 3)**5 + 64*x**3/(x**2 + 3)**4"
      ]
     },
     "execution_count": 42,
     "metadata": {},
     "output_type": "execute_result"
    }
   ],
   "source": [
    "#21-1c\n",
    "sy.diff(((2*x)/(x**2+3))**4)"
   ]
  },
  {
   "cell_type": "code",
   "execution_count": 43,
   "id": "efb1ac15-aaec-476d-ad5d-0379582bf123",
   "metadata": {},
   "outputs": [
    {
     "data": {
      "text/latex": [
       "$\\displaystyle 12.0 x^{3} \\left(2 x^{4} + 9\\right)^{0.5}$"
      ],
      "text/plain": [
       "12.0*x**3*(2*x**4 + 9)**0.5"
      ]
     },
     "execution_count": 43,
     "metadata": {},
     "output_type": "execute_result"
    }
   ],
   "source": [
    "#21-1d\n",
    "sy.diff((2*x**4+9)**(3/2))"
   ]
  },
  {
   "cell_type": "code",
   "execution_count": 44,
   "id": "db0fa30a-7013-4777-9208-c0cefde5b42c",
   "metadata": {},
   "outputs": [
    {
     "data": {
      "text/latex": [
       "$\\displaystyle - \\frac{x}{\\left(x^{2} + 1\\right)^{\\frac{3}{2}}}$"
      ],
      "text/plain": [
       "-x/(x**2 + 1)**(3/2)"
      ]
     },
     "execution_count": 44,
     "metadata": {},
     "output_type": "execute_result"
    }
   ],
   "source": [
    "#21-1e\n",
    "sy.diff((1)/(sy.sqrt(1+x**2)))"
   ]
  },
  {
   "cell_type": "code",
   "execution_count": 45,
   "id": "9444d2a8-be99-4079-88e4-a708faf61221",
   "metadata": {},
   "outputs": [
    {
     "data": {
      "text/latex": [
       "$\\displaystyle x^{2} \\left(6 x + 6\\right) \\left(x^{2} + 2 x\\right)^{2} + 2 x \\left(x^{2} + 2 x\\right)^{3}$"
      ],
      "text/plain": [
       "x**2*(6*x + 6)*(x**2 + 2*x)**2 + 2*x*(x**2 + 2*x)**3"
      ]
     },
     "execution_count": 45,
     "metadata": {},
     "output_type": "execute_result"
    }
   ],
   "source": [
    "#21-1f\n",
    "sy.diff((x**2)*(x**2+2*x)**3)"
   ]
  },
  {
   "cell_type": "code",
   "execution_count": 46,
   "id": "6d10dcac-b3ed-4127-8cd7-77cb5085d564",
   "metadata": {},
   "outputs": [
    {
     "data": {
      "text/latex": [
       "$\\displaystyle \\frac{x^{2} \\left(x - 1\\right)}{\\sqrt{x^{2} - 2 x}} + 2 x \\sqrt{x^{2} - 2 x}$"
      ],
      "text/plain": [
       "x**2*(x - 1)/sqrt(x**2 - 2*x) + 2*x*sqrt(x**2 - 2*x)"
      ]
     },
     "execution_count": 46,
     "metadata": {},
     "output_type": "execute_result"
    }
   ],
   "source": [
    "#21-1g\n",
    "sy.diff((x**2)*sy.sqrt(x**2-2*x))"
   ]
  },
  {
   "cell_type": "code",
   "execution_count": 47,
   "id": "92a83612-661c-4caa-beaf-92c869d47574",
   "metadata": {},
   "outputs": [
    {
     "data": {
      "text/latex": [
       "$\\displaystyle \\frac{x^{2} \\left(- 6 x - 3\\right)}{\\left(x^{2} + x\\right)^{4}} + \\frac{2 x}{\\left(x^{2} + x\\right)^{3}}$"
      ],
      "text/plain": [
       "x**2*(-6*x - 3)/(x**2 + x)**4 + 2*x/(x**2 + x)**3"
      ]
     },
     "execution_count": 47,
     "metadata": {},
     "output_type": "execute_result"
    }
   ],
   "source": [
    "#21-1h\n",
    "sy.diff((x**2)/(x**2+x)**3)"
   ]
  },
  {
   "cell_type": "code",
   "execution_count": 48,
   "id": "35863e65-6ef3-4f3f-a24e-ef0623aaf033",
   "metadata": {},
   "outputs": [
    {
     "data": {
      "text/latex": [
       "$\\displaystyle 4 x \\left(x^{2} + 1\\right) \\left(x^{3} + 1\\right)^{3}$"
      ],
      "text/plain": [
       "4*x*(x**2 + 1)*(x**3 + 1)**3"
      ]
     },
     "execution_count": 48,
     "metadata": {},
     "output_type": "execute_result"
    }
   ],
   "source": [
    "#21-1i\n",
    "sy.diff((x**2+1)**2)*((x**3+1)**3)"
   ]
  },
  {
   "cell_type": "code",
   "execution_count": 49,
   "id": "f6fadb96-e114-4507-8463-eeb5e48551f9",
   "metadata": {},
   "outputs": [
    {
     "data": {
      "text/latex": [
       "$\\displaystyle \\left(12 x + 4\\right) \\left(3 x^{2} + 2 x\\right)$"
      ],
      "text/plain": [
       "(12*x + 4)*(3*x**2 + 2*x)"
      ]
     },
     "execution_count": 49,
     "metadata": {},
     "output_type": "execute_result"
    }
   ],
   "source": [
    "#21-2a\n",
    "sy.diff(sy.sqrt(3*x**2+2*x)**4)"
   ]
  },
  {
   "cell_type": "code",
   "execution_count": 50,
   "id": "e89a4e89-2ebe-4e0d-9d0e-90211bc824cb",
   "metadata": {},
   "outputs": [
    {
     "data": {
      "text/latex": [
       "$\\displaystyle 15 x^{2} \\left(x^{2} + 3\\right)^{4} \\left(x^{3} + 3\\right)^{4} + 8 x \\left(x^{2} + 3\\right)^{3} \\left(x^{3} + 3\\right)^{5}$"
      ],
      "text/plain": [
       "15*x**2*(x**2 + 3)**4*(x**3 + 3)**4 + 8*x*(x**2 + 3)**3*(x**3 + 3)**5"
      ]
     },
     "execution_count": 50,
     "metadata": {},
     "output_type": "execute_result"
    }
   ],
   "source": [
    "#21-2b\n",
    "sy.diff(((x**3+3)**5)*(x**2+3)**4)"
   ]
  },
  {
   "cell_type": "code",
   "execution_count": 51,
   "id": "ffb6a542-a7d6-4d57-884d-b09a036822b9",
   "metadata": {},
   "outputs": [
    {
     "data": {
      "text/latex": [
       "$\\displaystyle \\frac{x^{3}}{\\sqrt{x^{2} + 1}} + 2 x \\sqrt{x^{2} + 1}$"
      ],
      "text/plain": [
       "x**3/sqrt(x**2 + 1) + 2*x*sqrt(x**2 + 1)"
      ]
     },
     "execution_count": 51,
     "metadata": {},
     "output_type": "execute_result"
    }
   ],
   "source": [
    "#21-2c\n",
    "sy.diff(sy.sqrt(x**2+1)*(x**2))"
   ]
  },
  {
   "cell_type": "code",
   "execution_count": 52,
   "id": "d9222e30-21c3-4ab1-bab2-1ee29195d854",
   "metadata": {},
   "outputs": [
    {
     "data": {
      "text/latex": [
       "$\\displaystyle \\frac{\\left(18 x + 6\\right) \\left(3 x^{2} + 2 x\\right)^{2}}{x^{2}} - \\frac{2 \\left(3 x^{2} + 2 x\\right)^{3}}{x^{3}}$"
      ],
      "text/plain": [
       "(18*x + 6)*(3*x**2 + 2*x)**2/x**2 - 2*(3*x**2 + 2*x)**3/x**3"
      ]
     },
     "execution_count": 52,
     "metadata": {},
     "output_type": "execute_result"
    }
   ],
   "source": [
    "#21-2d\n",
    "sy.diff(((2*x+3*x**2)**3)/(x**2))"
   ]
  },
  {
   "cell_type": "code",
   "execution_count": 53,
   "id": "49c19ea4-e60c-422d-a94d-34c04f503d97",
   "metadata": {},
   "outputs": [
    {
     "data": {
      "text/latex": [
       "$\\displaystyle \\frac{1.33333333333333 x^{3}}{\\left(x^{4} - 5\\right)^{0.666666666666667}}$"
      ],
      "text/plain": [
       "1.33333333333333*x**3*(x**4 - 5)**(-0.666666666666667)"
      ]
     },
     "execution_count": 53,
     "metadata": {},
     "output_type": "execute_result"
    }
   ],
   "source": [
    "#21-2e\n",
    "sy.diff((x**4-5)**(1/3))"
   ]
  },
  {
   "cell_type": "code",
   "execution_count": 54,
   "id": "bbcbdd10-5018-4712-88bc-1290c9a4d1d3",
   "metadata": {},
   "outputs": [
    {
     "data": {
      "text/latex": [
       "$\\displaystyle \\frac{6 x^{4}}{\\sqrt{x^{4} - 1}} + 3 \\sqrt{x^{4} - 1}$"
      ],
      "text/plain": [
       "6*x**4/sqrt(x**4 - 1) + 3*sqrt(x**4 - 1)"
      ]
     },
     "execution_count": 54,
     "metadata": {},
     "output_type": "execute_result"
    }
   ],
   "source": [
    "#21-2f\n",
    "sy.diff((x*3)*(sy.sqrt(x**4-1)))"
   ]
  },
  {
   "cell_type": "code",
   "execution_count": 55,
   "id": "1ac2153e-778d-4801-95e2-8cc5fe2aebf5",
   "metadata": {},
   "outputs": [
    {
     "data": {
      "text/latex": [
       "$\\displaystyle \\frac{1}{x}$"
      ],
      "text/plain": [
       "1/x"
      ]
     },
     "execution_count": 55,
     "metadata": {},
     "output_type": "execute_result"
    }
   ],
   "source": [
    "#22-1a\n",
    "ln=sy.log\n",
    "sy.diff(ln(5*x))"
   ]
  },
  {
   "cell_type": "code",
   "execution_count": 56,
   "id": "132fc43f-9bf1-49b4-8e41-c5a21464dcdb",
   "metadata": {},
   "outputs": [
    {
     "data": {
      "text/latex": [
       "$\\displaystyle e^{2.71828182845905^{- 2 x}}$"
      ],
      "text/plain": [
       "exp(2.71828182845905**(-2*x))"
      ]
     },
     "metadata": {},
     "output_type": "display_data"
    }
   ],
   "source": [
    "#22-1b\n",
    "sy.diff(e**(-2*x))\n",
    "display(sy.exp(e**(-2*x)))"
   ]
  },
  {
   "cell_type": "code",
   "execution_count": 57,
   "id": "291e3de9-0af5-4de9-b296-f86ed745b809",
   "metadata": {},
   "outputs": [
    {
     "data": {
      "text/latex": [
       "$\\displaystyle \\frac{1}{x}$"
      ],
      "text/plain": [
       "1/x"
      ]
     },
     "execution_count": 57,
     "metadata": {},
     "output_type": "execute_result"
    }
   ],
   "source": [
    "#22-1c\n",
    "sy.diff((ln(12*x))-3)"
   ]
  },
  {
   "cell_type": "code",
   "execution_count": 58,
   "id": "2f2f0c7d-cffb-4087-a18e-d6aa4e774bf5",
   "metadata": {},
   "outputs": [
    {
     "data": {
      "text/latex": [
       "$\\displaystyle 2^{x} \\log{\\left(2 \\right)}$"
      ],
      "text/plain": [
       "2**x*log(2)"
      ]
     },
     "execution_count": 58,
     "metadata": {},
     "output_type": "execute_result"
    }
   ],
   "source": [
    "#22-1d\n",
    "sy.diff(2**x)"
   ]
  },
  {
   "cell_type": "code",
   "execution_count": 59,
   "id": "f99d8686-dd25-4475-9300-797a858f19e1",
   "metadata": {},
   "outputs": [
    {
     "data": {
      "text/latex": [
       "$\\displaystyle e^{2.71828182845905^{3 x + 5}}$"
      ],
      "text/plain": [
       "exp(2.71828182845905**(3*x + 5))"
      ]
     },
     "metadata": {},
     "output_type": "display_data"
    }
   ],
   "source": [
    "#22-1e\n",
    "sy.diff((e**(3*x+5)))\n",
    "display(sy.exp(e**(3*x+5)))"
   ]
  },
  {
   "cell_type": "code",
   "execution_count": 60,
   "id": "59359d08-7863-4fd2-bb8d-156830a448a3",
   "metadata": {},
   "outputs": [
    {
     "data": {
      "text/latex": [
       "$\\displaystyle \\frac{5 x^{4}}{x^{5} + 1}$"
      ],
      "text/plain": [
       "5*x**4/(x**5 + 1)"
      ]
     },
     "execution_count": 60,
     "metadata": {},
     "output_type": "execute_result"
    }
   ],
   "source": [
    "#22-1f\n",
    "sy.diff(ln(x**5+1))"
   ]
  },
  {
   "cell_type": "code",
   "execution_count": 61,
   "id": "755202ba-e998-444b-be0b-8c4462ec2cf7",
   "metadata": {},
   "outputs": [
    {
     "data": {
      "text/latex": [
       "$\\displaystyle e^{2.71828182845905^{4 x^{2} + 8 x}}$"
      ],
      "text/plain": [
       "exp(2.71828182845905**(4*x**2 + 8*x))"
      ]
     },
     "metadata": {},
     "output_type": "display_data"
    }
   ],
   "source": [
    "#22-1g\n",
    "sy.diff(e**(4*x**2+8*x))\n",
    "display(sy.exp(e**(4*x**2+8*x)))"
   ]
  },
  {
   "cell_type": "code",
   "execution_count": 62,
   "id": "b38bb60c-816e-49d3-afe1-f04b10def935",
   "metadata": {},
   "outputs": [
    {
     "data": {
      "text/latex": [
       "$\\displaystyle - \\frac{1}{x}$"
      ],
      "text/plain": [
       "-1/x"
      ]
     },
     "execution_count": 62,
     "metadata": {},
     "output_type": "execute_result"
    }
   ],
   "source": [
    "#22-1h\n",
    "sy.diff(ln(1/x))"
   ]
  },
  {
   "cell_type": "code",
   "execution_count": 63,
   "id": "673c09e0-f5c8-4896-be4f-6d10e6707b18",
   "metadata": {},
   "outputs": [
    {
     "data": {
      "text/latex": [
       "$\\displaystyle x^{6} + 163.794450099433 x$"
      ],
      "text/plain": [
       "x**6 + 163.794450099433*x"
      ]
     },
     "metadata": {},
     "output_type": "display_data"
    }
   ],
   "source": [
    "#22-1i\n",
    "sy.diff((6*ln(x))+(3*e**4*x))\n",
    "display(sy.exp(6*ln(x))+(3*e**4*x))"
   ]
  },
  {
   "cell_type": "code",
   "execution_count": 64,
   "id": "a92c866e-2bf6-4dee-a4a3-d03b88e39e7c",
   "metadata": {},
   "outputs": [
    {
     "data": {
      "text/latex": [
       "$\\displaystyle e^{2.71828182845905^{- x} x}$"
      ],
      "text/plain": [
       "exp(2.71828182845905**(-x)*x)"
      ]
     },
     "metadata": {},
     "output_type": "display_data"
    }
   ],
   "source": [
    "#22-1j\n",
    "sy.diff(x*(e**(-x)))\n",
    "display(sy.exp(x*(e**(-x))))"
   ]
  },
  {
   "cell_type": "code",
   "execution_count": 65,
   "id": "ef46861b-131b-434d-ab69-23712a751f07",
   "metadata": {},
   "outputs": [
    {
     "data": {
      "text/latex": [
       "$\\displaystyle e^{x^{2}} \\log{\\left(x^{2} + 2 \\right)}$"
      ],
      "text/plain": [
       "exp(x**2)*log(x**2 + 2)"
      ]
     },
     "metadata": {},
     "output_type": "display_data"
    }
   ],
   "source": [
    "#22-1k\n",
    "sy.diff((x**2)*(ln(x**2+2)))\n",
    "display(sy.exp(x**2)*(ln(x**2+2)))"
   ]
  },
  {
   "cell_type": "code",
   "execution_count": 66,
   "id": "598ac0df-7488-4c97-97cc-ac42b0d6fcc4",
   "metadata": {},
   "outputs": [
    {
     "data": {
      "text/latex": [
       "$\\displaystyle 29.5562243957226 x^{3}$"
      ],
      "text/plain": [
       "29.5562243957226*x**3"
      ]
     },
     "execution_count": 66,
     "metadata": {},
     "output_type": "execute_result"
    }
   ],
   "source": [
    "#22-2a\n",
    "sy.diff((x**3)*(e**2*x))"
   ]
  },
  {
   "cell_type": "code",
   "execution_count": 67,
   "id": "0715ecce-6934-40b7-a272-dd7fbace3be4",
   "metadata": {},
   "outputs": [
    {
     "data": {
      "text/latex": [
       "$\\displaystyle \\log{\\left(\\frac{\\log{\\left(x^{2} - 1 \\right)}}{x^{2} + 1} \\right)}$"
      ],
      "text/plain": [
       "log(log(x**2 - 1)/(x**2 + 1))"
      ]
     },
     "metadata": {},
     "output_type": "display_data"
    }
   ],
   "source": [
    "#22-2b\n",
    "sy.diff(ln(x**2-1)/(x**2+1))\n",
    "display(sy.log(ln(x**2-1)/(x**2+1)))"
   ]
  },
  {
   "cell_type": "code",
   "execution_count": 68,
   "id": "65194f97-c2a4-4333-bf10-d1033c5ceeaa",
   "metadata": {},
   "outputs": [
    {
     "data": {
      "text/latex": [
       "$\\displaystyle \\log{\\left(x^{2} \\right)} \\log{\\left(x^{2} + 2 \\right)}$"
      ],
      "text/plain": [
       "log(x**2)*log(x**2 + 2)"
      ]
     },
     "metadata": {},
     "output_type": "display_data"
    }
   ],
   "source": [
    "#22-2c\n",
    "sy.diff((x**2)*(ln(x**2+2)))\n",
    "display(sy.log(x**2)*(ln(x**2+2)))"
   ]
  },
  {
   "cell_type": "code",
   "execution_count": 69,
   "id": "ff9c534e-2578-48d1-9714-814fe924cac8",
   "metadata": {},
   "outputs": [
    {
     "data": {
      "text/latex": [
       "$\\displaystyle \\frac{e^{2.71828182845905^{- x}}}{x^{2} + 1}$"
      ],
      "text/plain": [
       "exp(2.71828182845905**(-x))/(x**2 + 1)"
      ]
     },
     "metadata": {},
     "output_type": "display_data"
    }
   ],
   "source": [
    "#22-2d\n",
    "sy.diff((e**(-x))/(x**2+1))\n",
    "display(sy.exp(e**(-x))/(x**2+1))"
   ]
  }
 ],
 "metadata": {
  "kernelspec": {
   "display_name": "Python 3 (ipykernel)",
   "language": "python",
   "name": "python3"
  },
  "language_info": {
   "codemirror_mode": {
    "name": "ipython",
    "version": 3
   },
   "file_extension": ".py",
   "mimetype": "text/x-python",
   "name": "python",
   "nbconvert_exporter": "python",
   "pygments_lexer": "ipython3",
   "version": "3.9.5"
  }
 },
 "nbformat": 4,
 "nbformat_minor": 5
}
